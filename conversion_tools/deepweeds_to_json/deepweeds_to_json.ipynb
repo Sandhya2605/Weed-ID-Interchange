{
 "cells": [
  {
   "cell_type": "code",
   "execution_count": 13,
   "metadata": {},
   "outputs": [
    {
     "name": "stdout",
     "output_type": "stream",
     "text": [
      "/Users/hlyd4326/Documents/GitHub/SIH/Weed-ID-Interchange/conversion_tools\n"
     ]
    }
   ],
   "source": [
    "dirName = os.path.realpath('..')\n",
    "print(dirName)"
   ]
  },
  {
   "cell_type": "code",
   "execution_count": 18,
   "metadata": {},
   "outputs": [
    {
     "name": "stderr",
     "output_type": "stream",
     "text": [
      "  0%|          | 0/17509 [00:00<?, ?it/s]"
     ]
    },
    {
     "name": "stdout",
     "output_type": "stream",
     "text": [
      "Read 3 columns and 17509 rows from metadata file\n"
     ]
    },
    {
     "name": "stderr",
     "output_type": "stream",
     "text": [
      "\n"
     ]
    },
    {
     "ename": "AssertionError",
     "evalue": "",
     "output_type": "error",
     "traceback": [
      "\u001b[0;31m---------------------------------------------------------------------------\u001b[0m",
      "\u001b[0;31mAssertionError\u001b[0m                            Traceback (most recent call last)",
      "\u001b[0;32m<ipython-input-18-58df83f53a91>\u001b[0m in \u001b[0;36m<module>\u001b[0;34m\u001b[0m\n\u001b[1;32m    111\u001b[0m         \u001b[0mcategoryIDToCategories\u001b[0m\u001b[0;34m[\u001b[0m\u001b[0mcategoryID\u001b[0m\u001b[0;34m]\u001b[0m \u001b[0;34m=\u001b[0m \u001b[0mcategory\u001b[0m\u001b[0;34m\u001b[0m\u001b[0;34m\u001b[0m\u001b[0m\n\u001b[1;32m    112\u001b[0m     \u001b[0;32melse\u001b[0m\u001b[0;34m:\u001b[0m\u001b[0;34m\u001b[0m\u001b[0;34m\u001b[0m\u001b[0m\n\u001b[0;32m--> 113\u001b[0;31m         \u001b[0;32massert\u001b[0m \u001b[0mcategoryIDToCategories\u001b[0m\u001b[0;34m[\u001b[0m\u001b[0mcategoryID\u001b[0m\u001b[0;34m]\u001b[0m\u001b[0;34m[\u001b[0m\u001b[0;34m'name'\u001b[0m\u001b[0;34m]\u001b[0m \u001b[0;34m==\u001b[0m \u001b[0mcategoryName\u001b[0m\u001b[0;34m\u001b[0m\u001b[0;34m\u001b[0m\u001b[0m\n\u001b[0m\u001b[1;32m    114\u001b[0m \u001b[0;34m\u001b[0m\u001b[0m\n\u001b[1;32m    115\u001b[0m     \u001b[0;31m# Create an annotation\u001b[0m\u001b[0;34m\u001b[0m\u001b[0;34m\u001b[0m\u001b[0;34m\u001b[0m\u001b[0m\n",
      "\u001b[0;31mAssertionError\u001b[0m: "
     ]
    }
   ],
   "source": [
    "\"\"\"\n",
    "deepweeds_to_json.py\n",
    "\n",
    "Convert a DeepWeeds .csv file to CCT format.\n",
    "\n",
    "Modified from code from Microsoft's CameraTraps repo:\n",
    "https://github.com/microsoft/CameraTraps\n",
    "\"\"\"\n",
    "\n",
    "\n",
    "\"\"\"Constants and environment\"\"\"\n",
    "\n",
    "import pandas as pd\n",
    "import uuid\n",
    "import json\n",
    "import time\n",
    "from tqdm import tqdm\n",
    "import humanfriendly\n",
    "import sys\n",
    "import os\n",
    "import PIL\n",
    "#from visualization import visualize_db\n",
    "#import path_utils\n",
    "\n",
    "sys.path.append(os.path.realpath('..'))\n",
    "input_metadata_file = r\"/Users/hlyd4326/Documents/GitHub/SIH/Weed-ID-Interchange/conversion_tools/deepweeds_to_json/labels.csv\"\n",
    "output_file = r\"/Users/hlyd4326/Documents/GitHub/SIH/Weed-ID-Interchange/conversion_tools/deepweeds_to_json/deepweeds_imageinfo.json\"\n",
    "image_base = r\"/Users/hlyd4326/Documents/GitHub/SIH/Weed-ID-Interchange/conversion_tools/deepweeds_to_json/deepweeds_images\"\n",
    "#preview_base = r\"D:\\wildlife_data\\awc\\label_preview\"\n",
    "dirName = \"/Users/hlyd4326/Documents/GitHub/SIH/Weed-ID-Interchange/conversion_tools/deepweeds_to_json/\"\n",
    "\n",
    "#filename_replacements = {dirName:'DeepWeeds'}\n",
    "category_mappings = {'none':'empty'}\n",
    "\n",
    "\n",
    "\"\"\"Read source data\"\"\"\n",
    "\n",
    "input_metadata = pd.read_csv(input_metadata_file)\n",
    "\n",
    "print('Read {} columns and {} rows from metadata file'.format(len(input_metadata.columns),\n",
    "      len(input_metadata)))\n",
    "\n",
    "\n",
    "\"\"\"Main loop over labels\"\"\"\n",
    "\n",
    "startTime = time.time()\n",
    "\n",
    "relativePathToImage = {}\n",
    "\n",
    "images = []\n",
    "annotations = []\n",
    "categoryIDToCategories = {}\n",
    "missingFiles = []\n",
    "\n",
    "duplicateImageIDs = set()\n",
    "\n",
    "# Force the empty category to be ID 0\n",
    "emptyCat = {}\n",
    "emptyCat['name'] = 'empty'\n",
    "emptyCat['id'] = 0\n",
    "categoryIDToCategories[0] = emptyCat\n",
    "\n",
    "# iRow = 0; row = input_metadata.iloc[iRow]\n",
    "for iRow,row in tqdm(input_metadata.iterrows(),total=len(input_metadata)):\n",
    "    \n",
    "    # ImageID,FileName,FilePath,SpeciesID,CommonName\n",
    "    imageID = str(row['Filename'])\n",
    "    fn = row['Filename']\n",
    "    relativePath = os.path.join(dirName,fn)\n",
    "    \n",
    "    # This makes an assumption of one annotation per image, which happens to be\n",
    "    # true in this data set.\n",
    "    if relativePath in relativePathToImage:\n",
    "\n",
    "        im = relativePathToImage[relativePath]\n",
    "        assert im['id'] == imageID\n",
    "        duplicateImageIDs.add(imageID)\n",
    "            \n",
    "    else:\n",
    "        im = {}\n",
    "        im['id'] = imageID\n",
    "        im['file_name'] = relativePath\n",
    "        im['seq_id'] = '-1'\n",
    "        images.append(im)\n",
    "        relativePathToImage[relativePath] = im\n",
    "        \n",
    "        fullPath = os.path.join(image_base,relativePath)\n",
    "        \n",
    "        if not os.path.isfile(fullPath):\n",
    "            \n",
    "            missingFiles.append(fullPath)\n",
    "        \n",
    "        else:\n",
    "            # Retrieve image width and height\n",
    "            pilImage = PIL.Image.open(fullPath)\n",
    "            width, height = pilImage.size\n",
    "            im['width'] = width\n",
    "            im['height'] = height\n",
    "\n",
    "    categoryName = row['Species'].lower()\n",
    "    if categoryName in category_mappings:\n",
    "        categoryName = category_mappings[categoryName]\n",
    "        \n",
    "    categoryID = row['Label']\n",
    "    assert isinstance(categoryID,int)\n",
    "    \n",
    "    if categoryID not in categoryIDToCategories:\n",
    "        category = {}\n",
    "        category['name'] = categoryName\n",
    "        category['id'] = categoryID\n",
    "        categoryIDToCategories[categoryID] = category\n",
    "    else:\n",
    "        assert categoryIDToCategories[categoryID]['name'] == categoryName\n",
    "    \n",
    "    # Create an annotation\n",
    "    ann = {}\n",
    "    \n",
    "    # The Internet tells me this guarantees uniqueness to a reasonable extent, even\n",
    "    # beyond the sheer improbability of collisions.\n",
    "    ann['id'] = str(uuid.uuid1())\n",
    "    ann['image_id'] = im['id']    \n",
    "    ann['category_id'] = categoryID\n",
    "    \n",
    "    annotations.append(ann)\n",
    "    \n",
    "categories = list(categoryIDToCategories.values())\n",
    "\n",
    "elapsed = time.time() - startTime\n",
    "print('Finished verifying file loop in {}, {} images, {} missing images, {} repeat labels'.format(\n",
    "        humanfriendly.format_timespan(elapsed), len(images), len(missingFiles), len(duplicateImageIDs)))    \n",
    "\n",
    "\n",
    "\"\"\"Check for images that aren't included in the metadata file\"\"\"\n",
    "\n",
    "# Enumerate all images\n",
    "# list(relativePathToImage.keys())[0]\n",
    "\n",
    "#imageFullPaths = path_utils.find_images(image_base,bRecursive=True)\n",
    "#unmatchedFiles = []\n",
    "\n",
    "#for iImage,imagePath in enumerate(imageFullPaths):\n",
    "    \n",
    "#    fn = os.path.relpath(imagePath,image_base)    \n",
    "#    if fn not in relativePathToImage:\n",
    "#        unmatchedFiles.append(fn)\n",
    "\n",
    "#print('Finished checking {} images to make sure they\\'re in the metadata, found {} mismatches'.format(\n",
    "#        len(imageFullPaths),len(unmatchedFiles)))\n",
    "\n",
    "\n",
    "\"\"\"Create info struct\"\"\"\n",
    "\n",
    "info = {}\n",
    "info['year'] = 2019\n",
    "info['version'] = 1\n",
    "info['description'] = 'COCO style database'\n",
    "info['secondary_contributor'] = 'Converted to COCO .json by Henry Lydecker'\n",
    "info['contributor'] = 'Alex Olsen'\n",
    "\n",
    "\"\"\"\n",
    "Create dataset struct\n",
    "\n",
    "This information is invariant across a dataset upon upload.\n",
    "\n",
    "Subsequent datasets can be created with \n",
    "\"\"\"\n",
    "\n",
    "agdata = {}\n",
    "agdata['crop_type'] = 'Pastoral Grassland'\n",
    "agdata['upload_time'] = datetime.datetime.fromtimestamp(ts).strftime('%Y-%m-%d %H:%M:%S')\n",
    "agdata['camera_type'] = 'WeedLogger'\n",
    "agdata['camera_angle'] = '90'\n",
    "agdata['camera_fov'] = '85'\n",
    "agdata['EMR_channels'] = \"NA\"\n",
    "\n",
    "\n",
    "\"\"\"Write output\"\"\"\n",
    "\n",
    "json_data = {}\n",
    "json_data['images'] = images\n",
    "json_data['annotations'] = annotations\n",
    "json_data['categories'] = categories\n",
    "json_data['info'] = info\n",
    "json.dump(json_data, open(output_file,'w'), indent=4)\n",
    "\n",
    "print('Finished writing .json file with {} images, {} annotations, and {} categories'.format(\n",
    "        len(images),len(annotations),len(categories)))"
   ]
  },
  {
   "cell_type": "code",
   "execution_count": 17,
   "metadata": {},
   "outputs": [
    {
     "name": "stdout",
     "output_type": "stream",
     "text": [
      "chinee apple\n"
     ]
    }
   ],
   "source": []
  },
  {
   "cell_type": "code",
   "execution_count": 3,
   "metadata": {},
   "outputs": [
    {
     "ename": "ModuleNotFoundError",
     "evalue": "No module named 'data_management'",
     "output_type": "error",
     "traceback": [
      "\u001b[0;31m---------------------------------------------------------------------------\u001b[0m",
      "\u001b[0;31mModuleNotFoundError\u001b[0m                       Traceback (most recent call last)",
      "\u001b[0;32m<ipython-input-3-7a015a942bde>\u001b[0m in \u001b[0;36m<module>\u001b[0;34m\u001b[0m\n\u001b[1;32m      1\u001b[0m \u001b[0;34m\"\"\"Sanity-check the database's integrity\"\"\"\u001b[0m\u001b[0;34m\u001b[0m\u001b[0;34m\u001b[0m\u001b[0m\n\u001b[1;32m      2\u001b[0m \u001b[0;34m\u001b[0m\u001b[0m\n\u001b[0;32m----> 3\u001b[0;31m \u001b[0;32mfrom\u001b[0m \u001b[0mdata_management\u001b[0m\u001b[0;34m.\u001b[0m\u001b[0mdatabases\u001b[0m \u001b[0;32mimport\u001b[0m \u001b[0msanity_check_json_db\u001b[0m\u001b[0;34m\u001b[0m\u001b[0;34m\u001b[0m\u001b[0m\n\u001b[0m\u001b[1;32m      4\u001b[0m \u001b[0;34m\u001b[0m\u001b[0m\n\u001b[1;32m      5\u001b[0m \u001b[0moptions\u001b[0m \u001b[0;34m=\u001b[0m \u001b[0msanity_check_json_db\u001b[0m\u001b[0;34m.\u001b[0m\u001b[0mSanityCheckOptions\u001b[0m\u001b[0;34m(\u001b[0m\u001b[0;34m)\u001b[0m\u001b[0;34m\u001b[0m\u001b[0;34m\u001b[0m\u001b[0m\n",
      "\u001b[0;31mModuleNotFoundError\u001b[0m: No module named 'data_management'"
     ]
    }
   ],
   "source": [
    "\"\"\"Sanity-check the database's integrity\"\"\"\n",
    "\n",
    "from data_management.databases import sanity_check_json_db\n",
    "\n",
    "options = sanity_check_json_db.SanityCheckOptions()\n",
    "sortedCategories,data = sanity_check_json_db.sanity_check_json_db(output_file, options)\n",
    "\n",
    "    \n",
    "\"\"\"Render a bunch of images to make sure the labels got carried along correctly\"\"\"\n",
    "bbox_db_path = output_file\n",
    "output_dir = preview_base\n",
    "\n",
    "options = visualize_bbox_db.BboxDbVizOptions()\n",
    "options.num_to_visualize = 1000\n",
    "options.sort_by_filename = False\n",
    "\n",
    "htmlOutputFile = visualize_bbox_db.process_images(bbox_db_path,output_dir,image_base,options)"
   ]
  },
  {
   "cell_type": "code",
   "execution_count": null,
   "metadata": {},
   "outputs": [],
   "source": []
  }
 ],
 "metadata": {
  "kernelspec": {
   "display_name": "Python 3",
   "language": "python",
   "name": "python3"
  },
  "language_info": {
   "codemirror_mode": {
    "name": "ipython",
    "version": 3
   },
   "file_extension": ".py",
   "mimetype": "text/x-python",
   "name": "python",
   "nbconvert_exporter": "python",
   "pygments_lexer": "ipython3",
   "version": "3.7.7"
  },
  "varInspector": {
   "cols": {
    "lenName": 16,
    "lenType": 16,
    "lenVar": 40
   },
   "kernels_config": {
    "python": {
     "delete_cmd_postfix": "",
     "delete_cmd_prefix": "del ",
     "library": "var_list.py",
     "varRefreshCmd": "print(var_dic_list())"
    },
    "r": {
     "delete_cmd_postfix": ") ",
     "delete_cmd_prefix": "rm(",
     "library": "var_list.r",
     "varRefreshCmd": "cat(var_dic_list()) "
    }
   },
   "position": {
    "height": "471px",
    "left": "541px",
    "right": "20px",
    "top": "121px",
    "width": "311px"
   },
   "types_to_exclude": [
    "module",
    "function",
    "builtin_function_or_method",
    "instance",
    "_Feature"
   ],
   "window_display": false
  }
 },
 "nbformat": 4,
 "nbformat_minor": 4
}
