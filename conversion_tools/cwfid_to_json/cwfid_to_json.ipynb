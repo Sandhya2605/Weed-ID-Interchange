{
 "cells": [
  {
   "cell_type": "code",
   "execution_count": 2,
   "metadata": {},
   "outputs": [],
   "source": [
    "# %load_ext nb_black\n",
    "\n",
    "import yaml\n",
    "import pandas as pd\n",
    "import pathlib\n",
    "import uuid\n",
    "import json\n",
    "import time\n",
    "import datetime\n",
    "from tqdm import tqdm\n",
    "import humanfriendly\n",
    "import exifread\n",
    "import sys\n",
    "import os\n",
    "import PIL\n",
    "from PIL import Image\n",
    "\n",
    "cwfid_path = pathlib.Path(os.path.realpath('../cwfid_to_json/'))\n",
    "\n",
    "input_metadata_file = cwfid_path / \"labels.csv\"\n",
    "output_file = cwfid_path / \"cwfid_imageinfo.json\"\n",
    "image_base = cwfid_path / \"cwfid_images\"\n",
    "dir_name = \"cwfid_images\"\n",
    "\n",
    "\n",
    "\n"
   ]
  },
  {
   "cell_type": "code",
   "execution_count": 39,
   "metadata": {},
   "outputs": [],
   "source": [
    "\n",
    "CATEGORY_MAP = {\n",
    "    # TODO: we need a spec for species unspecified, and we need a spec for species specified\n",
    "    'crop': {'species': 'daugus carota', 'role': 'crop', 'id': 0},\n",
    "    'weed': {'species': 'UNSPECIFIED', 'role': 'weed', 'id': 1}\n",
    "}\n",
    "\n",
    "def create_annotations(ann_blob, image_id, starting_idx):\n",
    "    annotations = []\n",
    "    for i, obj in enumerate(ann_blob['annotation'], starting_idx):\n",
    "        category = CATEGORY_MAP[obj['type']]\n",
    "        # a COCO polygon is just a sequence [[x1, y1, x2, y2, ...]]\n",
    "        if not isinstance(obj[\"points\"][\"x\"], list):\n",
    "            print(f\"Found invalid polygon for annotation of {ann_blob['filename']} with points {obj['points']}\")\n",
    "            continue\n",
    "        polygon = zip(obj[\"points\"][\"x\"], obj[\"points\"][\"y\"])\n",
    "        polygon = sum(polygon, ())  # flatten an iterable of tuples\n",
    "        polygon = [list(map(int, polygon))]\n",
    "        # TODO: parse this polygon with pycocotools.frPyObjects(polygon, im_height, im_width)\n",
    "        # then:\n",
    "        # * check that mask matches the stored images in cwfid, and that there is not an off-by-one error (due to indexing base)\n",
    "        # * get area and bbox for annotation object\n",
    "        annotations.append({\n",
    "            \"id\": i,\n",
    "            \"image_id\": image_id,\n",
    "            \"category_id\": category[\"id\"],\n",
    "            \"segmentation\": polygon,\n",
    "            \"iscrowd\": 0,\n",
    "            # something in pycocotools to do this\n",
    "            # \"area\": calculate_area(polygon),\n",
    "            # \"bbox\": ...\n",
    "        })\n",
    "    return annotations"
   ]
  },
  {
   "cell_type": "code",
   "execution_count": 40,
   "metadata": {},
   "outputs": [],
   "source": [
    "def get_image_dimensions(path):\n",
    "    if not os.path.isfile(path):\n",
    "        return None\n",
    "    # Retrieve image width and height\n",
    "    image = PIL.Image.open(fullPath)\n",
    "    width, height = image.size\n",
    "    return {'width': width, 'height': height}"
   ]
  },
  {
   "cell_type": "code",
   "execution_count": 41,
   "metadata": {},
   "outputs": [
    {
     "name": "stderr",
     "output_type": "stream",
     "text": [
      "041_annotation.yaml: : 13it [00:00, 61.45it/s]"
     ]
    },
    {
     "name": "stdout",
     "output_type": "stream",
     "text": [
      "Found invalid polygon for annotation of 018_image.png with points {'x': 685.0, 'y': 200.0}\n",
      "Found invalid polygon for annotation of 009_image.png with points {'x': 457.0, 'y': 650.0}\n"
     ]
    },
    {
     "name": "stderr",
     "output_type": "stream",
     "text": [
      "020_annotation.yaml: : 60it [00:00, 63.77it/s]\n"
     ]
    }
   ],
   "source": [
    "missing_files = []\n",
    "categories = [\n",
    "    CATEGORY_MAP['crop'],\n",
    "    CATEGORY_MAP['weed']\n",
    "]\n",
    "agdata = [{\"id\": 0,\n",
    "           # TODO\n",
    "          }]\n",
    "info = {}  # TODO\n",
    "annotations = []\n",
    "images = []\n",
    "progress = tqdm((cwfid_path / \"annotations\").glob(\"*_annotation.yaml\"))\n",
    "for ann_path in progress:\n",
    "    progress.set_description(ann_path.name)\n",
    "    image_id = int(ann_path.name[:3])\n",
    "    ann_blob = yaml.safe_load(ann_path.open())\n",
    "    \n",
    "    image = {\n",
    "        \"id\": image_id,\n",
    "        \"file_name\": os.path.join(dir_name, ann_blob[\"filename\"]),\n",
    "        \"license\": 0,  # TODO\n",
    "        \"agdata_id\": 0,\n",
    "    }\n",
    "    dims = get_image_dimensions(image_base / ann_blob[\"filename\"])\n",
    "    if dims is None:\n",
    "        missing_files.append(image_base / ann_blob[\"filename\"])\n",
    "    else:\n",
    "        image.update(dims)\n",
    "    images.append(image)\n",
    "    \n",
    "    annotations.extend(create_annotations(ann_blob, image_id, starting_idx=len(annotations)))"
   ]
  },
  {
   "cell_type": "code",
   "execution_count": null,
   "metadata": {},
   "outputs": [],
   "source": [
    "collections = [\n",
    "    # TODO: DCMI conformance\n",
    "    {\"author\": \"Haug, Sebastian and Ostermann, Jörn\",\n",
    "     \"title\": \"A Crop/Weed Field Image Dataset for the Evaluation of Computer Vision Based Precision Agriculture Tasks\",\n",
    "     \"year\": 2015,\n",
    "     \"identifier\": \"doi:10.1007/978-3-319-16220-1_8\",\n",
    "     \"rights\": \"All data is subject to copyright and may only be used for non-commercial research. In case of use please cite our publication.\",\n",
    "     \"id\": 0,\n",
    "    }\n",
    "]\n",
    "# TODO: construct from train_test_split.yaml\n",
    "collection_memberships = [\n",
    "    {\"image_id\": 0,  # XXX: do we record membership per image? per annotation? per both????\n",
    "     \"subset\": \"test\",\n",
    "     \"collection_id\": 0}\n",
    "]"
   ]
  },
  {
   "cell_type": "code",
   "execution_count": 43,
   "metadata": {},
   "outputs": [],
   "source": [
    "with output_file.open('w') as fout:\n",
    "    json.dump({\"info\": info,\n",
    "               \"agdata\": agdata,\n",
    "               \"images\": images,\n",
    "               \"annotations\": annotations,\n",
    "               \"categories\": categories,\n",
    "               \"collections\": collections,\n",
    "               \"collection_memberships\": collection_memberships},\n",
    "              fout)"
   ]
  },
  {
   "cell_type": "code",
   "execution_count": 46,
   "metadata": {},
   "outputs": [],
   "source": [
    "!pbcopy < $output_file"
   ]
  },
  {
   "cell_type": "code",
   "execution_count": null,
   "metadata": {},
   "outputs": [],
   "source": []
  }
 ],
 "metadata": {
  "kernelspec": {
   "display_name": "Python 3",
   "language": "python",
   "name": "python3"
  },
  "language_info": {
   "codemirror_mode": {
    "name": "ipython",
    "version": 3
   },
   "file_extension": ".py",
   "mimetype": "text/x-python",
   "name": "python",
   "nbconvert_exporter": "python",
   "pygments_lexer": "ipython3",
   "version": "3.7.7"
  },
  "varInspector": {
   "cols": {
    "lenName": 16,
    "lenType": 16,
    "lenVar": 40
   },
   "kernels_config": {
    "python": {
     "delete_cmd_postfix": "",
     "delete_cmd_prefix": "del ",
     "library": "var_list.py",
     "varRefreshCmd": "print(var_dic_list())"
    },
    "r": {
     "delete_cmd_postfix": ") ",
     "delete_cmd_prefix": "rm(",
     "library": "var_list.r",
     "varRefreshCmd": "cat(var_dic_list()) "
    }
   },
   "types_to_exclude": [
    "module",
    "function",
    "builtin_function_or_method",
    "instance",
    "_Feature"
   ],
   "window_display": false
  }
 },
 "nbformat": 4,
 "nbformat_minor": 4
}
